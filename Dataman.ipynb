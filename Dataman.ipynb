{
  "nbformat": 4,
  "nbformat_minor": 0,
  "metadata": {
    "colab": {
      "provenance": [],
      "include_colab_link": true
    },
    "kernelspec": {
      "name": "python3",
      "display_name": "Python 3"
    },
    "language_info": {
      "name": "python"
    }
  },
  "cells": [
    {
      "cell_type": "markdown",
      "metadata": {
        "id": "view-in-github",
        "colab_type": "text"
      },
      "source": [
        "<a href=\"https://colab.research.google.com/github/Saransh-Bhatnagar/Music-Genre-Recognition/blob/main/Dataman.ipynb\" target=\"_parent\"><img src=\"https://colab.research.google.com/assets/colab-badge.svg\" alt=\"Open In Colab\"/></a>"
      ]
    },
    {
      "cell_type": "code",
      "execution_count": null,
      "metadata": {
        "id": "Le2RESRxtIb9"
      },
      "outputs": [],
      "source": [
        "import librosa\n",
        "import numpy as np\n",
        "import pandas as pd\n",
        "import matplotlib as plt\n",
        "import IPython\n",
        "import pdb"
      ]
    },
    {
      "cell_type": "code",
      "source": [
        "audio='/content/Queen – Bohemian Rhapsody (Official Video Remastered).webm'\n",
        "\n",
        "data,sr=librosa.load(audio,sr=45600)\n",
        "god=[]"
      ],
      "metadata": {
        "id": "WO8U8feM6_E-",
        "colab": {
          "base_uri": "https://localhost:8080/"
        },
        "outputId": "29337797-5462-4ec8-851d-8aeb73f4df34"
      },
      "execution_count": null,
      "outputs": [
        {
          "output_type": "stream",
          "name": "stderr",
          "text": [
            "/usr/local/lib/python3.7/dist-packages/librosa/core/audio.py:165: UserWarning: PySoundFile failed. Trying audioread instead.\n",
            "  warnings.warn(\"PySoundFile failed. Trying audioread instead.\")\n"
          ]
        }
      ]
    },
    {
      "cell_type": "markdown",
      "source": [
        "###librosa.feature.chroma_stft\n",
        "Compute a chromagram from a waveform or power spectrogram."
      ],
      "metadata": {
        "id": "LyVPp9cwEiXv"
      }
    },
    {
      "cell_type": "code",
      "source": [
        "stft=librosa.feature.chroma_stft(data)\n",
        "stft_db=librosa.amplitude_to_db(abs(stft))\n",
        "xst=np.var(stft)\n",
        "yst=np.mean(stft)"
      ],
      "metadata": {
        "id": "EzOO-bc47YC4"
      },
      "execution_count": null,
      "outputs": []
    },
    {
      "cell_type": "markdown",
      "source": [
        "###librosa.feature.rms\n",
        "Compute root-mean-square (RMS) value for each frame, either from the audio samples y or from a spectrogram S"
      ],
      "metadata": {
        "id": "ixY0q0iqE0qU"
      }
    },
    {
      "cell_type": "code",
      "source": [
        "rms=librosa.feature.rms(data)\n",
        "xms=np.var(rms)\n",
        "yms=np.mean(rms)\n"
      ],
      "metadata": {
        "id": "W_SOK8k897uy"
      },
      "execution_count": null,
      "outputs": []
    },
    {
      "cell_type": "markdown",
      "source": [
        "###librosa.feature.spectral_centroid\n",
        "Compute the spectral centroid.\n",
        "Each frame of a magnitude spectrogram is normalized and treated as a distribution over frequency bins, from which the mean (centroid) is extracted per frame.\n",
        "\n"
      ],
      "metadata": {
        "id": "4fYZYqbGE6mi"
      }
    },
    {
      "cell_type": "code",
      "source": [
        "spec=librosa.feature.spectral_centroid(data)\n",
        "xspe=np.var(spec)\n",
        "yspe=np.mean(spec)\n",
        "xspe"
      ],
      "metadata": {
        "colab": {
          "base_uri": "https://localhost:8080/"
        },
        "id": "J_AcX1Js-4ws",
        "outputId": "d8e3c736-8752-4f86-b984-48aa69edcc08"
      },
      "execution_count": null,
      "outputs": [
        {
          "output_type": "execute_result",
          "data": {
            "text/plain": [
              "286920.9330944684"
            ]
          },
          "metadata": {},
          "execution_count": 5
        }
      ]
    },
    {
      "cell_type": "markdown",
      "source": [
        "###librosa.feature.spectral_bandwidth\n",
        "Compute p’th-order spectral bandwidth."
      ],
      "metadata": {
        "id": "4U0U8ujLFOrM"
      }
    },
    {
      "cell_type": "code",
      "source": [
        "specb=librosa.feature.spectral_bandwidth(data)\n",
        "xspb=np.var(specb)\n",
        "yspb=np.mean(specb)\n"
      ],
      "metadata": {
        "id": "y6zGwVPR_UxT"
      },
      "execution_count": null,
      "outputs": []
    },
    {
      "cell_type": "markdown",
      "source": [
        "###librosa.feature.spectral_rolloff\n",
        "Compute roll-off frequency.\n",
        "The roll-off frequency is defined for each frame as the center frequency for a spectrogram bin such that at least roll_percent (0.85 by default) of the energy of the spectrum in this frame is contained in this bin and the bins below."
      ],
      "metadata": {
        "id": "WcU9soy5FZ1P"
      }
    },
    {
      "cell_type": "code",
      "source": [
        "specr=librosa.feature.spectral_rolloff(data)\n",
        "xrol=np.var(specr)\n",
        "yrol=np.mean(specr)\n"
      ],
      "metadata": {
        "id": "JfPDInCt_pvT"
      },
      "execution_count": null,
      "outputs": []
    },
    {
      "cell_type": "markdown",
      "source": [
        "###librosa.feature.zero_crossing_rate\n",
        "Compute the zero-crossing rate of an audio time series."
      ],
      "metadata": {
        "id": "NtH1qkg1Fa1b"
      }
    },
    {
      "cell_type": "code",
      "source": [
        "zero=librosa.feature.zero_crossing_rate(data)\n",
        "xz=np.var(zero)\n",
        "yz=np.mean(zero)\n"
      ],
      "metadata": {
        "id": "ysWt8uGy_5Go"
      },
      "execution_count": null,
      "outputs": []
    },
    {
      "cell_type": "markdown",
      "source": [
        "###librosa.effects.harmonic\n",
        "Extract harmonic elements from an audio time-series."
      ],
      "metadata": {
        "id": "Zk-eUCUDFcGd"
      }
    },
    {
      "cell_type": "code",
      "source": [
        "har=librosa.effects.harmonic(data)\n",
        "xhar=np.var(har)\n",
        "yhar=np.mean(har)\n"
      ],
      "metadata": {
        "id": "lV6ibELaASkE"
      },
      "execution_count": null,
      "outputs": []
    },
    {
      "cell_type": "markdown",
      "source": [
        "###librosa.effects.hpss\n",
        "Decompose an audio time series into harmonic and percussive components.\n",
        "This function automates the STFT->HPSS->ISTFT pipeline, and ensures that the output waveforms have equal length to the input waveform y."
      ],
      "metadata": {
        "id": "3oll275xFbn8"
      }
    },
    {
      "cell_type": "code",
      "source": [
        "y_harm, y_perc = librosa.effects.hpss(data)\n",
        "xperc=np.var(y_perc)\n",
        "yperc=np.mean(y_perc)\n"
      ],
      "metadata": {
        "id": "7LioPiXMAxdb"
      },
      "execution_count": null,
      "outputs": []
    },
    {
      "cell_type": "markdown",
      "source": [
        "###librosa.beat.tempo\n",
        "Estimate the tempo (beats per minute)"
      ],
      "metadata": {
        "id": "ySCbYjlqFc1j"
      }
    },
    {
      "cell_type": "code",
      "source": [
        "tem=librosa.beat.tempo(data)\n",
        "ytem=np.mean(tem)\n"
      ],
      "metadata": {
        "id": "jkrXH5uDCixe"
      },
      "execution_count": null,
      "outputs": []
    },
    {
      "cell_type": "markdown",
      "source": [
        "###librosa.feature.mfcc\n",
        "Mel-frequency cepstral coefficients (MFCCs)"
      ],
      "metadata": {
        "id": "F5CRUiSWFdo5"
      }
    },
    {
      "cell_type": "code",
      "source": [
        "mfcc=librosa.feature.mfcc(data,sr=sr)\n",
        "mn=[]\n",
        "var=[]\n",
        "for i in range(20):\n",
        "  x=np.var(mfcc[i])\n",
        "  y=np.mean(mfcc[i])\n",
        "  mn.append(y);\n",
        "  var.append(x);\n",
        "\n",
        "print(len(mn),len(var),mn)\n",
        "mn[5]\n",
        "var[5]"
      ],
      "metadata": {
        "colab": {
          "base_uri": "https://localhost:8080/"
        },
        "id": "T_pZ6Gn-Dfy1",
        "outputId": "cb84b8eb-614a-432e-f00d-6bcb4ea5caa1"
      },
      "execution_count": null,
      "outputs": [
        {
          "output_type": "stream",
          "name": "stdout",
          "text": [
            "20 20 [-202.34525, 138.96864, -27.955793, 32.18215, 1.3923748, 10.084703, -8.113597, 5.3471274, 3.5013223, -5.3594027, 0.06312415, 2.0425441, -2.3975708, -0.8596647, 0.9230868, -4.691229, -4.554178, -1.8061249, -3.1779888, -3.6856892]\n"
          ]
        },
        {
          "output_type": "execute_result",
          "data": {
            "text/plain": [
              "225.24374"
            ]
          },
          "metadata": {},
          "execution_count": 12
        }
      ]
    },
    {
      "cell_type": "code",
      "source": [
        "god.extend([yst,xst,yms,xms,yspe,xspe,yspb,xspb,yrol,xrol,yz,xz,yhar,xhar,yperc,xperc,ytem])"
      ],
      "metadata": {
        "id": "ZGUtQHdM6Y4S"
      },
      "execution_count": null,
      "outputs": []
    },
    {
      "cell_type": "code",
      "source": [
        "def csv(x,a,b):\n",
        "  data = {\n",
        "\n",
        "      'filename':[\" \"],\n",
        "      'length':[661794],\n",
        "      'chroma_stft_mean':[x[0]],\n",
        "      'chroma_stft_var':[x[1]],\n",
        "      'rms_mean':[x[2]],\n",
        "      'rms_var':[x[3]],\n",
        "      'spectral_centroid_mean':[x[4]],\n",
        "      'spectral_centroid_var':[x[5]],\n",
        "      'spectral_bandwidth_mean':[x[6]],\n",
        "      'spectral_bandwidth_var':[x[7]],\n",
        "      'rolloff_mean':[x[8]],\n",
        "      'rolloff_var':[x[9]],\n",
        "      'zero_crossing_rate_mean':[x[10]],\n",
        "      'zero_crossing_rate_var':[x[11]],\n",
        "      'harmony_mean':[x[12]],\n",
        "      'harmony_var':[x[13]],\n",
        "      'perceptr_mean':[x[14]],\n",
        "      'perceptr_var':[x[15]],\n",
        "      'tempo':[x[16]],\n",
        "      'mfcc1_mean':[a[0]],\n",
        "      'mfcc1_var':[b[0]],\n",
        "      'mfcc2_mean':[a[1]],\n",
        "      'mfcc2_var':[b[1]],\n",
        "      'mfcc3_mean':[a[2]],\n",
        "      'mfcc3_var':[b[2]],\n",
        "      'mfcc4_mean':[a[3]],\n",
        "      'mfcc4_var':[b[3]],\n",
        "      'mfcc5_mean':[a[4]],\n",
        "      'mfcc5_var':[b[4]],\n",
        "      'mfcc6_mean':[a[5]],\n",
        "      'mfcc6_var':[b[5]],\n",
        "      'mfcc7_mean':[a[6]],\n",
        "      'mfcc7_var':[b[6]],\n",
        "      'mfcc8_mean':[a[7]],\n",
        "      'mfcc8_var':[b[7]],\n",
        "      'mfcc9_mean':[a[8]],\n",
        "      'mfcc9_var':[b[8]],\n",
        "      'mfcc10_mean':[a[9]],\n",
        "      'mfcc10_var':[b[9]],\n",
        "      'mfcc11_mean':[a[10]],\n",
        "      'mfcc11_var':[b[10]],\n",
        "      'mfcc12_mean':[a[11]],\n",
        "      'mfcc12_var':[b[11]],\n",
        "      'mfcc13_mean':[a[12]],\n",
        "      'mfcc13_var':[b[12]],\n",
        "      'mfcc14_mean':[a[13]],\n",
        "      'mfcc14_var':[b[13]],\n",
        "      'mfcc15_mean':[a[14]],\n",
        "      'mfcc15_var':[b[14]],\n",
        "      'mfcc16_mean':[a[15]],\n",
        "      'mfcc16_var':[b[15]],\n",
        "      'mfcc17_mean':[a[16]],\n",
        "      'mfcc17_var':[b[16]],\n",
        "      'mfcc18_mean':[a[17]],\n",
        "      'mfcc18_var':[b[17]],\n",
        "      'mfcc19_mean':[a[18]],\n",
        "      'mfcc19_var':[b[18]],\n",
        "      'mfcc20_mean':[a[19]],\n",
        "      'mfcc20_var':[b[19]],\n",
        "      'label':[\" \"]\n",
        "  }\n",
        "  df = pd.DataFrame(data)\n",
        "  df.to_csv('Test.csv', mode='a', index=False)"
      ],
      "metadata": {
        "id": "J6TLl8lY2BPM"
      },
      "execution_count": null,
      "outputs": []
    },
    {
      "cell_type": "code",
      "source": [
        "csv(god,mn,var)\n",
        "dd=pd.read_csv('/content/Test.csv')\n",
        "dd.head()"
      ],
      "metadata": {
        "colab": {
          "base_uri": "https://localhost:8080/",
          "height": 174
        },
        "id": "kEAFr89V8rfa",
        "outputId": "38791106-8fd2-4547-d029-701a7f5e368f"
      },
      "execution_count": null,
      "outputs": [
        {
          "output_type": "execute_result",
          "data": {
            "text/plain": [
              "  filename  length  chroma_stft_mean  chroma_stft_var  rms_mean   rms_var  \\\n",
              "0           661794          0.402502           0.0888  0.119356  0.007014   \n",
              "\n",
              "   spectral_centroid_mean  spectral_centroid_var  spectral_bandwidth_mean  \\\n",
              "0             1211.066564          286920.933094              1454.654646   \n",
              "\n",
              "   spectral_bandwidth_var  ...  mfcc16_var  mfcc17_mean  mfcc17_var  \\\n",
              "0           171309.113027  ...    78.86461    -4.554178   65.608086   \n",
              "\n",
              "   mfcc18_mean  mfcc18_var  mfcc19_mean  mfcc19_var  mfcc20_mean  mfcc20_var  \\\n",
              "0    -1.806125   53.296383    -3.177989   57.550858    -3.685689    61.03611   \n",
              "\n",
              "   label  \n",
              "0         \n",
              "\n",
              "[1 rows x 60 columns]"
            ],
            "text/html": [
              "\n",
              "  <div id=\"df-c6230192-c877-48b1-bb67-1b1f9375751a\">\n",
              "    <div class=\"colab-df-container\">\n",
              "      <div>\n",
              "<style scoped>\n",
              "    .dataframe tbody tr th:only-of-type {\n",
              "        vertical-align: middle;\n",
              "    }\n",
              "\n",
              "    .dataframe tbody tr th {\n",
              "        vertical-align: top;\n",
              "    }\n",
              "\n",
              "    .dataframe thead th {\n",
              "        text-align: right;\n",
              "    }\n",
              "</style>\n",
              "<table border=\"1\" class=\"dataframe\">\n",
              "  <thead>\n",
              "    <tr style=\"text-align: right;\">\n",
              "      <th></th>\n",
              "      <th>filename</th>\n",
              "      <th>length</th>\n",
              "      <th>chroma_stft_mean</th>\n",
              "      <th>chroma_stft_var</th>\n",
              "      <th>rms_mean</th>\n",
              "      <th>rms_var</th>\n",
              "      <th>spectral_centroid_mean</th>\n",
              "      <th>spectral_centroid_var</th>\n",
              "      <th>spectral_bandwidth_mean</th>\n",
              "      <th>spectral_bandwidth_var</th>\n",
              "      <th>...</th>\n",
              "      <th>mfcc16_var</th>\n",
              "      <th>mfcc17_mean</th>\n",
              "      <th>mfcc17_var</th>\n",
              "      <th>mfcc18_mean</th>\n",
              "      <th>mfcc18_var</th>\n",
              "      <th>mfcc19_mean</th>\n",
              "      <th>mfcc19_var</th>\n",
              "      <th>mfcc20_mean</th>\n",
              "      <th>mfcc20_var</th>\n",
              "      <th>label</th>\n",
              "    </tr>\n",
              "  </thead>\n",
              "  <tbody>\n",
              "    <tr>\n",
              "      <th>0</th>\n",
              "      <td></td>\n",
              "      <td>661794</td>\n",
              "      <td>0.402502</td>\n",
              "      <td>0.0888</td>\n",
              "      <td>0.119356</td>\n",
              "      <td>0.007014</td>\n",
              "      <td>1211.066564</td>\n",
              "      <td>286920.933094</td>\n",
              "      <td>1454.654646</td>\n",
              "      <td>171309.113027</td>\n",
              "      <td>...</td>\n",
              "      <td>78.86461</td>\n",
              "      <td>-4.554178</td>\n",
              "      <td>65.608086</td>\n",
              "      <td>-1.806125</td>\n",
              "      <td>53.296383</td>\n",
              "      <td>-3.177989</td>\n",
              "      <td>57.550858</td>\n",
              "      <td>-3.685689</td>\n",
              "      <td>61.03611</td>\n",
              "      <td></td>\n",
              "    </tr>\n",
              "  </tbody>\n",
              "</table>\n",
              "<p>1 rows × 60 columns</p>\n",
              "</div>\n",
              "      <button class=\"colab-df-convert\" onclick=\"convertToInteractive('df-c6230192-c877-48b1-bb67-1b1f9375751a')\"\n",
              "              title=\"Convert this dataframe to an interactive table.\"\n",
              "              style=\"display:none;\">\n",
              "        \n",
              "  <svg xmlns=\"http://www.w3.org/2000/svg\" height=\"24px\"viewBox=\"0 0 24 24\"\n",
              "       width=\"24px\">\n",
              "    <path d=\"M0 0h24v24H0V0z\" fill=\"none\"/>\n",
              "    <path d=\"M18.56 5.44l.94 2.06.94-2.06 2.06-.94-2.06-.94-.94-2.06-.94 2.06-2.06.94zm-11 1L8.5 8.5l.94-2.06 2.06-.94-2.06-.94L8.5 2.5l-.94 2.06-2.06.94zm10 10l.94 2.06.94-2.06 2.06-.94-2.06-.94-.94-2.06-.94 2.06-2.06.94z\"/><path d=\"M17.41 7.96l-1.37-1.37c-.4-.4-.92-.59-1.43-.59-.52 0-1.04.2-1.43.59L10.3 9.45l-7.72 7.72c-.78.78-.78 2.05 0 2.83L4 21.41c.39.39.9.59 1.41.59.51 0 1.02-.2 1.41-.59l7.78-7.78 2.81-2.81c.8-.78.8-2.07 0-2.86zM5.41 20L4 18.59l7.72-7.72 1.47 1.35L5.41 20z\"/>\n",
              "  </svg>\n",
              "      </button>\n",
              "      \n",
              "  <style>\n",
              "    .colab-df-container {\n",
              "      display:flex;\n",
              "      flex-wrap:wrap;\n",
              "      gap: 12px;\n",
              "    }\n",
              "\n",
              "    .colab-df-convert {\n",
              "      background-color: #E8F0FE;\n",
              "      border: none;\n",
              "      border-radius: 50%;\n",
              "      cursor: pointer;\n",
              "      display: none;\n",
              "      fill: #1967D2;\n",
              "      height: 32px;\n",
              "      padding: 0 0 0 0;\n",
              "      width: 32px;\n",
              "    }\n",
              "\n",
              "    .colab-df-convert:hover {\n",
              "      background-color: #E2EBFA;\n",
              "      box-shadow: 0px 1px 2px rgba(60, 64, 67, 0.3), 0px 1px 3px 1px rgba(60, 64, 67, 0.15);\n",
              "      fill: #174EA6;\n",
              "    }\n",
              "\n",
              "    [theme=dark] .colab-df-convert {\n",
              "      background-color: #3B4455;\n",
              "      fill: #D2E3FC;\n",
              "    }\n",
              "\n",
              "    [theme=dark] .colab-df-convert:hover {\n",
              "      background-color: #434B5C;\n",
              "      box-shadow: 0px 1px 3px 1px rgba(0, 0, 0, 0.15);\n",
              "      filter: drop-shadow(0px 1px 2px rgba(0, 0, 0, 0.3));\n",
              "      fill: #FFFFFF;\n",
              "    }\n",
              "  </style>\n",
              "\n",
              "      <script>\n",
              "        const buttonEl =\n",
              "          document.querySelector('#df-c6230192-c877-48b1-bb67-1b1f9375751a button.colab-df-convert');\n",
              "        buttonEl.style.display =\n",
              "          google.colab.kernel.accessAllowed ? 'block' : 'none';\n",
              "\n",
              "        async function convertToInteractive(key) {\n",
              "          const element = document.querySelector('#df-c6230192-c877-48b1-bb67-1b1f9375751a');\n",
              "          const dataTable =\n",
              "            await google.colab.kernel.invokeFunction('convertToInteractive',\n",
              "                                                     [key], {});\n",
              "          if (!dataTable) return;\n",
              "\n",
              "          const docLinkHtml = 'Like what you see? Visit the ' +\n",
              "            '<a target=\"_blank\" href=https://colab.research.google.com/notebooks/data_table.ipynb>data table notebook</a>'\n",
              "            + ' to learn more about interactive tables.';\n",
              "          element.innerHTML = '';\n",
              "          dataTable['output_type'] = 'display_data';\n",
              "          await google.colab.output.renderOutput(dataTable, element);\n",
              "          const docLink = document.createElement('div');\n",
              "          docLink.innerHTML = docLinkHtml;\n",
              "          element.appendChild(docLink);\n",
              "        }\n",
              "      </script>\n",
              "    </div>\n",
              "  </div>\n",
              "  "
            ]
          },
          "metadata": {},
          "execution_count": 15
        }
      ]
    }
  ]
}